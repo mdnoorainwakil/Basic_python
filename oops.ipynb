{
  "nbformat": 4,
  "nbformat_minor": 0,
  "metadata": {
    "colab": {
      "provenance": []
    },
    "kernelspec": {
      "name": "python3",
      "display_name": "Python 3"
    },
    "language_info": {
      "name": "python"
    }
  },
  "cells": [
    {
      "cell_type": "markdown",
      "source": [
        "#Q.1 What is Object-Oriented Programming (OOP)?\n",
        "\n",
        "- Object-Oriented Programming (OOP) is a programming paradigm that organizes software design around objects, rather than functions and logic. Objects are instances of classes that contain both data (attributes) and methods (functions).\n",
        "OOP helps in breaking down complex problems into smaller, reusable, and more manageable components.\n",
        "\n",
        "Key features of OOP include:\n",
        "\n",
        "- Encapsulation\n",
        "\n",
        "- Abstraction\n",
        "\n",
        "- Inheritance\n",
        "\n",
        "- Polymorphism\n"
      ],
      "metadata": {
        "id": "P8TaFMvV_sAL"
      }
    },
    {
      "cell_type": "markdown",
      "source": [],
      "metadata": {
        "id": "NbyX6XV8AK9b"
      }
    },
    {
      "cell_type": "markdown",
      "source": [
        "#Q2. What is a Class in OOP?\n",
        "\n",
        "- A class is a blueprint or template for creating objects.\n",
        "It defines the attributes (variables) and methods (functions) that the created objects will have."
      ],
      "metadata": {
        "id": "Zshw84KJAMgb"
      }
    },
    {
      "cell_type": "code",
      "source": [
        "class Student:\n",
        "    def __init__(self, name, age):\n",
        "        self.name = name\n",
        "        self.age = age\n",
        "\n",
        "    def display(self):\n",
        "        print(f\"Name: {self.name}, Age: {self.age}\")\n"
      ],
      "metadata": {
        "id": "31D1VeXQAkyj"
      },
      "execution_count": null,
      "outputs": []
    },
    {
      "cell_type": "markdown",
      "source": [
        "#Q3. What is an Object in OOP?\n",
        "- An object is an instance of a class. It is a real-world entity that has state (data/attributes) and behavior (methods)."
      ],
      "metadata": {
        "id": "QzKoBwIyAmc8"
      }
    },
    {
      "cell_type": "code",
      "source": [
        "# Creating objects of Student class\n",
        "s1 = Student(\"Faizan\", 20)\n",
        "s2 = Student(\"Sahiba\", 21)\n",
        "\n",
        "s1.display()\n",
        "s2.display()\n"
      ],
      "metadata": {
        "id": "uInVtPMTAxit"
      },
      "execution_count": null,
      "outputs": []
    },
    {
      "cell_type": "markdown",
      "source": [
        "#Q4.Difference Between Abstraction and Encapsulation\n",
        " | Feature         | Abstraction                                                                                            | Encapsulation                                                                       |\n",
        "| --------------- | ------------------------------------------------------------------------------------------------------ | ----------------------------------------------------------------------------------- |\n",
        "| **Definition**  | Hiding implementation details and showing only the essential features.                                 | Wrapping data (variables) and methods into a single unit (class).                   |\n",
        "| **Purpose**     | Focuses on **what** the object does.                                                                   | Focuses on **how** the object’s data is protected.                                  |\n",
        "| **Achieved by** | Abstract classes and interfaces.                                                                       | Using access modifiers (`private`, `protected`, `public`).                          |\n",
        "| **Example**     | A car driver uses steering, accelerator, and brake without knowing the internal working of the engine. | Car engine details are hidden inside the class and only accessible through methods. |\n"
      ],
      "metadata": {
        "id": "kfPGP-tFA3nA"
      }
    },
    {
      "cell_type": "markdown",
      "source": [],
      "metadata": {
        "id": "vw0ZeKuMA83c"
      }
    },
    {
      "cell_type": "code",
      "source": [
        "# Encapsulation\n",
        "class BankAccount:\n",
        "    def __init__(self, balance):\n",
        "        self.__balance = balance  # private variable\n",
        "\n",
        "    def deposit(self, amount):\n",
        "        self.__balance += amount\n",
        "\n",
        "    def get_balance(self):\n",
        "        return self.__balance\n",
        "\n",
        "# Abstraction (using abstract class)\n",
        "from abc import ABC, abstractmethod\n",
        "\n",
        "class Shape(ABC):\n",
        "    @abstractmethod\n",
        "    def area(self):\n",
        "        pass\n"
      ],
      "metadata": {
        "id": "QlVWIeqpBBwb"
      },
      "execution_count": null,
      "outputs": []
    },
    {
      "cell_type": "markdown",
      "source": [
        "#Q6. What are Dunder Methods in Python?\n",
        "Dunder methods (also called magic methods) are special methods in Python whose names start and end with double underscores (__).\n",
        "They allow classes to implement built-in behavior like arithmetic operations, string representation, object comparison, etc.\n",
        "\n",
        "📌 Common Examples:\n",
        "\n",
        "__init__ → Constructor method, runs when an object is created.\n",
        "\n",
        "__str__ → Defines string representation of the object.\n",
        "\n",
        "__len__ → Defines behavior of len() function on objects.\n",
        "\n",
        "__add__ → Defines behavior of + operator."
      ],
      "metadata": {
        "id": "xHqRYDAWBU8Q"
      }
    },
    {
      "cell_type": "code",
      "source": [
        "class Book:\n",
        "    def __init__(self, title, pages):\n",
        "        self.title = title\n",
        "        self.pages = pages\n",
        "\n",
        "    def __str__(self):\n",
        "        return f\"Book: {self.title}, Pages: {self.pages}\"\n",
        "\n",
        "    def __len__(self):\n",
        "        return self.pages\n",
        "\n",
        "b1 = Book(\"Python Basics\", 350)\n",
        "print(b1)        # Uses __str__\n",
        "print(len(b1))   # Uses __len__\n"
      ],
      "metadata": {
        "id": "se0AG5DpBiq2"
      },
      "execution_count": null,
      "outputs": []
    },
    {
      "cell_type": "markdown",
      "source": [
        " #Q6. Explain the Concept of Inheritance in OOP?                     \n",
        " Inheritance is an OOP concept where one class (child/derived class) acquires the properties and methods of another class (parent/base class).\n",
        "It promotes reusability and reduces code duplication.\n",
        "\n",
        "📌 Types of Inheritance:\n",
        "\n",
        "Single Inheritance – One child inherits from one parent.\n",
        "\n",
        "Multiple Inheritance – One child inherits from multiple parents.\n",
        "\n",
        "Multilevel Inheritance – Child → Parent → Grandparent chain.\n",
        "\n",
        "Hierarchical Inheritance – Multiple children inherit from the same parent.\n",
        "\n",
        "Hybrid Inheritance – Combination of above types."
      ],
      "metadata": {
        "id": "_vR2xaWVBl2i"
      }
    },
    {
      "cell_type": "code",
      "source": [
        "# Parent class\n",
        "class Animal:\n",
        "    def sound(self):\n",
        "        print(\"Animals make sound\")\n",
        "\n",
        "# Child class\n",
        "class Dog(Animal):\n",
        "    def sound(self):\n",
        "        print(\"Dog barks\")\n",
        "\n",
        "# Another child class\n",
        "class Cat(Animal):\n",
        "    def sound(self):\n",
        "        print(\"Cat meows\")\n",
        "\n",
        "d = Dog()\n",
        "c = Cat()\n",
        "\n",
        "d.sound()\n",
        "c.sound()\n"
      ],
      "metadata": {
        "id": "as9CBwl5Bxvj"
      },
      "execution_count": null,
      "outputs": []
    },
    {
      "cell_type": "markdown",
      "source": [
        "#Q7.What is Polymorphism in OOP?\n",
        "\n",
        "Polymorphism means “one name, many forms”. It allows the same function name to be used for different types of objects. In simple words, different classes can have methods with the same name but different behavior."
      ],
      "metadata": {
        "id": "tGo0iGebELf3"
      }
    },
    {
      "cell_type": "code",
      "source": [
        "class Dog:\n",
        "    def sound(self):\n",
        "        return \"Bark\"\n",
        "\n",
        "class Cat:\n",
        "    def sound(self):\n",
        "        return \"Meow\"\n",
        "\n",
        "animals = [Dog(), Cat()]\n",
        "for a in animals:\n",
        "    print(a.sound())\n"
      ],
      "metadata": {
        "id": "kGDYuBPsEQVu"
      },
      "execution_count": null,
      "outputs": []
    },
    {
      "cell_type": "markdown",
      "source": [
        "#Q8.How is Encapsulation achieved in Python?\n",
        "\n",
        "Encapsulation is the process of hiding data and allowing controlled access to it. In Python, it is achieved using:\n",
        "\n",
        "Private variables (prefix with __)\n",
        "\n",
        "Getters and setters"
      ],
      "metadata": {
        "id": "TK-ZCbtZEcoK"
      }
    },
    {
      "cell_type": "code",
      "source": [
        "class Bank:\n",
        "    def __init__(self, balance):\n",
        "        self.__balance = balance   # private variable\n",
        "\n",
        "    def get_balance(self):\n",
        "        return self.__balance\n"
      ],
      "metadata": {
        "id": "krdpGguSEfTL"
      },
      "execution_count": null,
      "outputs": []
    },
    {
      "cell_type": "markdown",
      "source": [
        "#Q9.What is a Constructor in Python?\n",
        "\n",
        "A constructor is a special method __init__() in Python that is automatically called when an object is created. It is used to initialize object data."
      ],
      "metadata": {
        "id": "ebVsu6MEEj-4"
      }
    },
    {
      "cell_type": "code",
      "source": [
        "class Student:\n",
        "    def __init__(self, name):\n",
        "        self.name = name\n"
      ],
      "metadata": {
        "id": "Rnf1qmknEmk5"
      },
      "execution_count": null,
      "outputs": []
    },
    {
      "cell_type": "markdown",
      "source": [
        "#Q10.What are Class and Static Methods in Python?\n",
        "\n",
        "Class Method: Declared using @classmethod. It takes cls as the first argument and works with class-level data.\n",
        "\n",
        "Static Method: Declared using @staticmethod. It does not depend on either class (cls) or instance (self)."
      ],
      "metadata": {
        "id": "FAxukPVjEq2A"
      }
    },
    {
      "cell_type": "code",
      "source": [
        "class Demo:\n",
        "    @classmethod\n",
        "    def cls_method(cls):\n",
        "        print(\"This is a class method\")\n",
        "\n",
        "    @staticmethod\n",
        "    def static_method():\n",
        "        print(\"This is a static method\")\n"
      ],
      "metadata": {
        "id": "uxbLb2tjEtY-"
      },
      "execution_count": null,
      "outputs": []
    },
    {
      "cell_type": "markdown",
      "source": [
        "#Q.11 What is Method Overloading in Python?\n",
        "\n",
        "Python does not support true method overloading like Java or C++. However, it can be achieved by using default arguments or *args."
      ],
      "metadata": {
        "id": "pAYW2nWLExhP"
      }
    },
    {
      "cell_type": "code",
      "source": [
        "class Calc:\n",
        "    def add(self, a, b=0):\n",
        "        return a + b\n"
      ],
      "metadata": {
        "id": "CPnFBaHlE0mz"
      },
      "execution_count": null,
      "outputs": []
    },
    {
      "cell_type": "markdown",
      "source": [
        "#Q12.What is Method Overriding in OOP?\n",
        "\n",
        "Method overriding means redefining a method of the parent class in the child class with the same name. The child’s method overrides the parent’s method."
      ],
      "metadata": {
        "id": "OihJ23VvE4BG"
      }
    },
    {
      "cell_type": "code",
      "source": [
        "class Parent:\n",
        "    def show(self):\n",
        "        print(\"Parent Class\")\n",
        "\n",
        "class Child(Parent):\n",
        "    def show(self):\n",
        "        print(\"Child Class\")   # overrides parent method\n"
      ],
      "metadata": {
        "id": "dbL8lhbqE6xP"
      },
      "execution_count": null,
      "outputs": []
    },
    {
      "cell_type": "markdown",
      "source": [
        "#Q13.What is a Property Decorator in Python?\n",
        "The @property decorator is used to treat a method like an attribute. It allows controlled access to private variables without calling the method explicitly."
      ],
      "metadata": {
        "id": "Yr_WbIA1E8uO"
      }
    },
    {
      "cell_type": "code",
      "source": [
        "class Student:\n",
        "    def __init__(self, marks):\n",
        "        self._marks = marks\n",
        "\n",
        "    @property\n",
        "    def grade(self):\n",
        "        return \"Pass\" if self._marks >= 40 else \"Fail\"\n"
      ],
      "metadata": {
        "id": "miAhfL8AFJ0j"
      },
      "execution_count": null,
      "outputs": []
    },
    {
      "cell_type": "markdown",
      "source": [
        "#Q14.Why is Polymorphism important in OOP?\n",
        "\n",
        "Polymorphism is important because:\n",
        "\n",
        "It increases flexibility of code.\n",
        "\n",
        "It allows one interface to be used for different data types.\n",
        "\n",
        "It improves code reusability and reduces duplication.\n",
        "\n",
        "It makes programs easier to maintain and extendable."
      ],
      "metadata": {
        "id": "Xz5pR6UHFK-r"
      }
    },
    {
      "cell_type": "markdown",
      "source": [
        "Q15. What is an Abstract Class in Python?\n",
        "\n",
        "An abstract class is a class that cannot be instantiated directly. It may contain one or more abstract methods (methods declared but not implemented). Abstract classes are defined using the abc module."
      ],
      "metadata": {
        "id": "Fs3ZOe7hFTG7"
      }
    },
    {
      "cell_type": "code",
      "source": [
        "from abc import ABC, abstractmethod\n",
        "\n",
        "class Shape(ABC):\n",
        "    @abstractmethod\n",
        "    def area(self):\n",
        "        pass\n"
      ],
      "metadata": {
        "id": "ESa-nqtHFwWx"
      },
      "execution_count": null,
      "outputs": []
    },
    {
      "cell_type": "markdown",
      "source": [
        "#Q.16 What are the Advantages of OOP?\n",
        "\n",
        "Encapsulation → Data hiding and controlled access.\n",
        "\n",
        "Inheritance → Code reusability.\n",
        "\n",
        "Polymorphism → Flexibility in using one interface for different objects.\n",
        "\n",
        "Abstraction → Hides unnecessary details.\n",
        "\n",
        "Maintainability → Easier to update and scale applications."
      ],
      "metadata": {
        "id": "vx_JDR_QFznx"
      }
    },
    {
      "cell_type": "markdown",
      "source": [
        "#Q17. What is the Difference between a Class Variable and an Instance Variable?\n",
        "\n",
        "Class Variable: Shared by all objects of a class. Defined inside the class but outside methods.\n",
        "\n",
        "Instance Variable: Unique for each object. Defined inside the constructor (__init__)."
      ],
      "metadata": {
        "id": "3KryCxqJF6NJ"
      }
    },
    {
      "cell_type": "code",
      "source": [
        "class Demo:\n",
        "    class_var = \"Shared\"   # class variable\n",
        "    def __init__(self, value):\n",
        "        self.instance_var = value  # instance variable\n"
      ],
      "metadata": {
        "id": "nj81y5S7F-eD"
      },
      "execution_count": null,
      "outputs": []
    },
    {
      "cell_type": "markdown",
      "source": [
        "#Q.18 What is Multiple Inheritance in Python?\n",
        "\n",
        "Multiple inheritance means a class can inherit from more than one parent class."
      ],
      "metadata": {
        "id": "HCCTg_ebGDAU"
      }
    },
    {
      "cell_type": "code",
      "source": [
        "class A: pass\n",
        "class B: pass\n",
        "class C(A, B):  # inherits from both A and B\n",
        "    pass\n"
      ],
      "metadata": {
        "id": "LfmaQetLGIAa"
      },
      "execution_count": null,
      "outputs": []
    },
    {
      "cell_type": "markdown",
      "source": [
        "#Q.19 Explain the Purpose of __str__ and __repr__ Methods in Python.\n",
        "\n",
        "__str__ → Returns a human-readable string representation of an object (used with print()).\n",
        "\n",
        "__repr__ → Returns an official string representation for debugging."
      ],
      "metadata": {
        "id": "FwRgwrQdGKKb"
      }
    },
    {
      "cell_type": "code",
      "source": [
        "class Student:\n",
        "    def __init__(self, name):\n",
        "        self.name = name\n",
        "\n",
        "    def __str__(self):\n",
        "        return f\"Student Name: {self.name}\"\n",
        "\n",
        "    def __repr__(self):\n",
        "        return f\"Student('{self.name}')\"\n"
      ],
      "metadata": {
        "id": "zd55Y8mtGTVZ"
      },
      "execution_count": null,
      "outputs": []
    },
    {
      "cell_type": "markdown",
      "source": [
        "#Q.20 What is the Significance of the super() Function in Python?\n",
        "\n",
        "The super() function is used to call methods of the parent class. It is often used in inheritance to call the parent’s constructor."
      ],
      "metadata": {
        "id": "wD1pUGwzGVQ_"
      }
    },
    {
      "cell_type": "code",
      "source": [
        "class Parent:\n",
        "    def __init__(self):\n",
        "        print(\"Parent constructor\")\n",
        "\n",
        "class Child(Parent):\n",
        "    def __init__(self):\n",
        "        super().__init__()\n",
        "        print(\"Child constructor\")\n"
      ],
      "metadata": {
        "id": "QEPFKyC0Ge0A"
      },
      "execution_count": null,
      "outputs": []
    },
    {
      "cell_type": "markdown",
      "source": [
        "#Q21. What is the Significance of the __del__ Method in Python?\n",
        "\n",
        "The __del__ method is a destructor in Python. It is automatically called when an object is deleted or goes out of scope, mainly used to release resources."
      ],
      "metadata": {
        "id": "ipxCw0N6Gf0y"
      }
    },
    {
      "cell_type": "code",
      "source": [
        "class Demo:\n",
        "    def __del__(self):\n",
        "        print(\"Object destroyed\")\n"
      ],
      "metadata": {
        "id": "n5tdKxchGk46"
      },
      "execution_count": null,
      "outputs": []
    },
    {
      "cell_type": "markdown",
      "source": [
        "#Q22 What is the Difference between @staticmethod and @classmethod in Python?\n",
        "\n",
        "@staticmethod: Does not take self or cls. Works like a normal function inside a class.\n",
        "\n",
        "@classmethod: Takes cls as first argument and works with class variables."
      ],
      "metadata": {
        "id": "cED3Kn-wGmAG"
      }
    },
    {
      "cell_type": "code",
      "source": [
        "class Demo:\n",
        "    @staticmethod\n",
        "    def sm(): print(\"Static method\")\n",
        "\n",
        "    @classmethod\n",
        "    def cm(cls): print(\"Class method\")\n"
      ],
      "metadata": {
        "id": "usTO5bQLGrcc"
      },
      "execution_count": null,
      "outputs": []
    },
    {
      "cell_type": "markdown",
      "source": [
        "#Q23 How does Polymorphism work in Python with Inheritance?\n",
        "\n",
        "Polymorphism allows a child class to override parent methods, so the same method name behaves differently."
      ],
      "metadata": {
        "id": "fQYyhbSlGv_C"
      }
    },
    {
      "cell_type": "code",
      "source": [
        "class Animal:\n",
        "    def sound(self): return \"Some sound\"\n",
        "\n",
        "class Dog(Animal):\n",
        "    def sound(self): return \"Bark\"\n",
        "\n",
        "obj = Dog()\n",
        "print(obj.sound())  # Bark\n"
      ],
      "metadata": {
        "id": "T8VsHIjrG2iN"
      },
      "execution_count": null,
      "outputs": []
    },
    {
      "cell_type": "markdown",
      "source": [
        "#Q24 What is Method Chaining in Python OOP?\n",
        "\n",
        "Method chaining means calling multiple methods in a single line because each method returns the object (self)."
      ],
      "metadata": {
        "id": "qyjGpHtzG9ce"
      }
    },
    {
      "cell_type": "code",
      "source": [
        "class Person:\n",
        "    def set_name(self, name):\n",
        "        self.name = name\n",
        "        return self\n",
        "    def set_age(self, age):\n",
        "        self.age = age\n",
        "        return self\n",
        "\n",
        "p = Person().set_name(\"Faizan\").set_age(22)\n"
      ],
      "metadata": {
        "id": "ftLzXk6eHBYg"
      },
      "execution_count": null,
      "outputs": []
    },
    {
      "cell_type": "markdown",
      "source": [
        "#Q25 What is the Purpose of the __call__ Method in Python?\n",
        "\n",
        "The __call__ method makes an object callable like a function."
      ],
      "metadata": {
        "id": "eo-1CE48HDul"
      }
    },
    {
      "cell_type": "code",
      "source": [
        "class Adder:\n",
        "    def __init__(self, x):\n",
        "        self.x = x\n",
        "\n",
        "    def __call__(self, y):\n",
        "        return self.x + y\n",
        "\n",
        "obj = Adder(10)\n",
        "print(obj(5))   # behaves like function → Output: 15\n"
      ],
      "metadata": {
        "id": "m4uUjF78HIrE"
      },
      "execution_count": null,
      "outputs": []
    },
    {
      "cell_type": "code",
      "source": [
        "#Q1.Create a parent class Animal with a method speak() that prints a generic message. Create a child class Dog that overrides the speak() method to print \"Bark!\".\n",
        "class Animal:\n",
        "  def speak(self):\n",
        "    print(\"this is animal sound\")\n",
        "class dog(Animal):\n",
        "    def speak(self):\n",
        "      print(\"Bark\")\n",
        "obj = Animal()\n",
        "obj.speak()\n",
        "obj = dog()\n",
        "obj.speak()"
      ],
      "metadata": {
        "colab": {
          "base_uri": "https://localhost:8080/"
        },
        "id": "pd_halK6ZUpP",
        "outputId": "59fc34bd-f299-4089-972c-be43ef164043"
      },
      "execution_count": 6,
      "outputs": [
        {
          "output_type": "stream",
          "name": "stdout",
          "text": [
            "this is animal sound\n",
            "Bark\n"
          ]
        }
      ]
    },
    {
      "cell_type": "code",
      "source": [
        "#Q2. Write a program to create an abstract class Shape with a method area(). Derive classes Circle and Rectangle\n",
        "#from it and implement the area() method in both.\n",
        "from abc import ABC, abstractmethod\n",
        "class shape(ABC):\n",
        "  @abstractmethod\n",
        "  def area(self):\n",
        "    pass\n",
        "class Circle(shape):\n",
        "  def __init__(self,radius):\n",
        "    self.radius = radius\n",
        "  def area(self):\n",
        "    return 3.14 * self.radius * self.radius\n",
        "class rectangle(shape):\n",
        "  def __init__(self,length,width):\n",
        "    self.length = length\n",
        "    self.width = width\n",
        "  def area(self):\n",
        "    return self.length * self.width\n",
        "\n",
        "c = Circle(6)\n",
        "print(c.area())\n",
        "r = rectangle(3,5)\n",
        "print(r.area())\n",
        ""
      ],
      "metadata": {
        "colab": {
          "base_uri": "https://localhost:8080/"
        },
        "id": "dGvHWeYEbZug",
        "outputId": "deccc9e8-7390-44dc-ba9a-2eda7a239f4a"
      },
      "execution_count": 16,
      "outputs": [
        {
          "output_type": "stream",
          "name": "stdout",
          "text": [
            "113.03999999999999\n",
            "15\n"
          ]
        }
      ]
    },
    {
      "cell_type": "code",
      "source": [
        "#Q3. Implement a multi-level inheritance scenario where a class Vehicle has an attribute type. Derive a class Car\n",
        "and further derive a class ElectricCar that adds a battery attribute.\n",
        "class vehical:\n",
        "  def __init__(self,type):\n",
        "    self.type = type\n",
        "class car(vehical):\n",
        "  def __init__(self,type,brand):\n",
        "    self.type = type\n",
        "    self.brand = brand\n",
        "class electric_car(car):\n",
        "  def __init__(self,type,brand,battery_capacity):\n",
        "    self.type = type\n",
        "    self.brand = brand\n",
        "    self.battery_capacity = battery_capacity\n",
        "\n",
        "v = electric_car(\"car\",\"tata\",\"100kwh\")\n",
        "print(\"Type :\",v.type)\n",
        "print(\"Brand :\",v.brand)\n",
        "print(\"Battery Capacity :\",v.battery_capacity)\n",
        ""
      ],
      "metadata": {
        "colab": {
          "base_uri": "https://localhost:8080/"
        },
        "id": "CYvnHQ2TfaF2",
        "outputId": "12337964-5c65-4daf-90a9-4bb25e0e852c"
      },
      "execution_count": 18,
      "outputs": [
        {
          "output_type": "stream",
          "name": "stdout",
          "text": [
            "Type : car\n",
            "Brand : tata\n",
            "Battery Capacity : 100kwh\n"
          ]
        }
      ]
    },
    {
      "cell_type": "code",
      "source": [
        "'''Q4. Demonstrate polymorphism by creating a base class Bird with a method fly(). Create two derived classes\n",
        "Sparrow and Penguin that override the fly() method.'''\n",
        "\n",
        "class Bird():\n",
        "  def __init__(self,fly):\n",
        "    self.fly = fly\n",
        "    print(\"Bird class\")\n",
        "\n",
        "class sparrow():\n",
        "  def fly (self):\n",
        "    print(\"sparrow class\")\n",
        "    print(\"sparrow can fly\")\n",
        "class penguin():\n",
        "  def fly(self):\n",
        "    print(\"penguin class\")\n",
        "    print(\"penguin can not fly\")\n",
        "\n",
        "# birds = [sparrow(),penguin()]\n",
        "# for bird in birds:\n",
        "#   bird.fly()\n",
        "f = sparrow()\n",
        "f.fly()\n",
        "f = penguin()\n",
        "f.fly()\n"
      ],
      "metadata": {
        "colab": {
          "base_uri": "https://localhost:8080/"
        },
        "id": "Bi7LylRrmbnD",
        "outputId": "37d54696-a212-4fa3-b0ed-75b36b49a08e"
      },
      "execution_count": 41,
      "outputs": [
        {
          "output_type": "stream",
          "name": "stdout",
          "text": [
            "sparrow class\n",
            "sparrow can fly\n",
            "penguin class\n",
            "penguin can not fly\n"
          ]
        }
      ]
    },
    {
      "cell_type": "code",
      "source": [
        "'''5. Write a program to demonstrate encapsulation by creating a class BankAccount with private attributes\n",
        "balance and methods to deposit, withdraw, and check balance.'''\n",
        "\n",
        "class BankAccount():\n",
        "  def __init__(self,balance):\n",
        "    self.__balance = balance\n",
        "\n",
        "  def deposit(self,amount):\n",
        "    self.amount = amount\n",
        "    self.__balance = self.__balance + self.amount\n",
        "\n",
        "  def withdraw (self,amount):\n",
        "    if self.__balance >=amount:\n",
        "      self.__balance = self.__balance - amount\n",
        "      return True\n",
        "    else:\n",
        "      return False\n",
        "  def get__balance(self):\n",
        "    return self.__balance\n",
        "\n",
        "X = BankAccount(10000)\n",
        "X.deposit(5000)\n",
        "print(X.get__balance())\n",
        "X.withdraw(14000)\n",
        "print(X.get__balance())"
      ],
      "metadata": {
        "colab": {
          "base_uri": "https://localhost:8080/"
        },
        "id": "puMfXo2OrPZB",
        "outputId": "c225adad-9715-474d-fe17-02b501035b21"
      },
      "execution_count": 51,
      "outputs": [
        {
          "output_type": "stream",
          "name": "stdout",
          "text": [
            "15000\n",
            "1000\n"
          ]
        }
      ]
    },
    {
      "cell_type": "code",
      "source": [
        "'''Q7. Create a class MathOperations with a class method add_numbers() to add two numbers and a static\n",
        "method subtract_numbers() to subtract two numbers.'''\n",
        "class mathoperations:\n",
        "  @classmethod\n",
        "  def add_numbers(cls,a,b):\n",
        "    return a+b\n",
        "  @classmethod\n",
        "  def subtract_numbers(cls,a,b):\n",
        "    return a-b\n",
        "\n",
        "print(\"Addition : \",mathoperations.add_numbers(10,20))\n",
        "print(\"Subtraction : \",mathoperations.subtract_numbers(10,20))"
      ],
      "metadata": {
        "colab": {
          "base_uri": "https://localhost:8080/"
        },
        "id": "1p2Ix5gvwU9I",
        "outputId": "3a214e91-3514-4120-c4ff-b1258c51d869"
      },
      "execution_count": 53,
      "outputs": [
        {
          "output_type": "stream",
          "name": "stdout",
          "text": [
            "Addition :  30\n",
            "Subtraction :  -10\n"
          ]
        }
      ]
    },
    {
      "cell_type": "code",
      "source": [
        "#Q8. Implement a class Person with a class method to count the total number of persons created.\n",
        "class Person:\n",
        "    count = 0   # class variable\n",
        "\n",
        "    def __init__(self, name):\n",
        "        self.name = name\n",
        "        Person.count += 1   # increase count whenever a new object is made\n",
        "\n",
        "    @classmethod\n",
        "    def total_persons(cls):\n",
        "        return cls.count\n",
        "p1 = Person(\"Alice\")\n",
        "p2 = Person(\"Bob\")\n",
        "p3 = Person(\"Charlie\")\n",
        "\n",
        "print(\"Total persons created:\", Person.total_persons())\n",
        "\n"
      ],
      "metadata": {
        "colab": {
          "base_uri": "https://localhost:8080/"
        },
        "id": "8cvsRS_K0tGI",
        "outputId": "085a77a1-45c5-4c77-86b5-f3530d8e4a87"
      },
      "execution_count": 54,
      "outputs": [
        {
          "output_type": "stream",
          "name": "stdout",
          "text": [
            "Total persons created: 3\n"
          ]
        }
      ]
    },
    {
      "cell_type": "code",
      "source": [
        "'''Q9. Write a class Fraction with attributes numerator and denominator. Override the str method to display the\n",
        "fraction as \"numerator/denominator\".'''\n",
        "class Fraction:\n",
        "  def __init__(self,numerator,denominator):\n",
        "    self.numerator = numerator\n",
        "    self.denominator = denominator\n",
        "  def __str__(self):\n",
        "    return f\"{self.numerator}/{self.denominator}\"\n",
        "\n",
        "f = Fraction(44,66)\n",
        "print(f)\n"
      ],
      "metadata": {
        "colab": {
          "base_uri": "https://localhost:8080/"
        },
        "id": "8DAydPuD1N5-",
        "outputId": "7db96dce-8a40-4cdd-e869-eaebfa3b7b4f"
      },
      "execution_count": 64,
      "outputs": [
        {
          "output_type": "stream",
          "name": "stdout",
          "text": [
            "44/66\n"
          ]
        }
      ]
    },
    {
      "cell_type": "code",
      "source": [
        "'''Q10.Demonstrate operator overloading by creating a class Vector and overriding the add method to add two\n",
        "vectors'''\n",
        "class Vector:\n",
        "    def __init__(self, x, y):\n",
        "        self.x = x\n",
        "        self.y = y\n",
        "\n",
        "    def __add__(self, other):   # operator overloading\n",
        "        return Vector(self.x + other.x, self.y + other.y)\n",
        "\n",
        "    def __str__(self):\n",
        "        return f\"({self.x}, {self.y})\"\n",
        "\n",
        "# Create two vectors\n",
        "v1 = Vector(2, 3)\n",
        "v2 = Vector(4, 5)\n",
        "\n",
        "# Add them using +\n",
        "v3 = v1 + v2\n",
        "print(v3)\n"
      ],
      "metadata": {
        "colab": {
          "base_uri": "https://localhost:8080/"
        },
        "id": "WuG-B5QMRzHB",
        "outputId": "e76c3576-12ea-4ac0-f9fe-d361bc4818ed"
      },
      "execution_count": 3,
      "outputs": [
        {
          "output_type": "stream",
          "name": "stdout",
          "text": [
            "(6, 8)\n"
          ]
        }
      ]
    },
    {
      "cell_type": "code",
      "source": [
        "'''Q11. Create a class Person with attributes name and age. Add a method greet() that prints \"Hello, my name is\n",
        "{name} and I am {age} years old.'''\n",
        "class person:\n",
        "  def __init__(self,name,age):\n",
        "    self.name = name\n",
        "    self.age = age\n",
        "  def greet(self):\n",
        "    print(f\"Hello, my name is {self.name} and I am {self.age} years old.\")\n",
        "\n",
        "p = person(\"Faizan\",22)\n",
        "p.greet()"
      ],
      "metadata": {
        "colab": {
          "base_uri": "https://localhost:8080/"
        },
        "id": "STlKHMhUSMgZ",
        "outputId": "611d3772-3cda-4517-bf9b-b795a3382ce7"
      },
      "execution_count": 2,
      "outputs": [
        {
          "output_type": "stream",
          "name": "stdout",
          "text": [
            "Hello, my name is Faizan and I am 22 years old.\n"
          ]
        }
      ]
    },
    {
      "cell_type": "code",
      "source": [
        "'''12. Implement a class Student with attributes name and grades. Create a method average_grade() to compute\n",
        "the average of the grades.'''\n",
        "class student:\n",
        "  def __init__(self,name,grades):\n",
        "    self.name = name\n",
        "    self.grades = grades\n",
        "  def average_grade(self):\n",
        "    return sum(self.grades)/len(self.grades)\n",
        "s = student(\"Faizan\",[90,80,70])\n",
        "print(s.average_grade())"
      ],
      "metadata": {
        "colab": {
          "base_uri": "https://localhost:8080/"
        },
        "id": "hPedrRuyS20X",
        "outputId": "e6c34dbc-d305-4906-bdf5-66617bd8e9a6"
      },
      "execution_count": 4,
      "outputs": [
        {
          "output_type": "stream",
          "name": "stdout",
          "text": [
            "80.0\n"
          ]
        }
      ]
    },
    {
      "cell_type": "code",
      "source": [
        "'''#Q13. Create a class Rectangle with methods set_dimensions() to set the dimensions and area() to calculate the\n",
        "area.'''\n",
        "class rectangle:\n",
        "  def __init__(self,length,width):\n",
        "    self.length = length\n",
        "    self.width = width\n",
        "\n",
        "  def area(self):\n",
        "    return self.length * self.width\n",
        "r = rectangle(3,4)\n",
        "print(r.area())\n"
      ],
      "metadata": {
        "colab": {
          "base_uri": "https://localhost:8080/"
        },
        "id": "iGlg8eymTbET",
        "outputId": "3adb012e-05f0-47ac-93b8-4a0034250b13"
      },
      "execution_count": 5,
      "outputs": [
        {
          "output_type": "stream",
          "name": "stdout",
          "text": [
            "12\n"
          ]
        }
      ]
    },
    {
      "cell_type": "code",
      "source": [
        "'''Q14. Create a class Employee with a method calculate_salary() that computes the salary based on hours worked\n",
        "and hourly rate. Create a derived class Manager that adds a bonus to the salary.'''\n",
        "class Employee:\n",
        "    def __init__(self, hours_worked, hourly_rate):\n",
        "        self.hours_worked = hours_worked\n",
        "        self.hourly_rate = hourly_rate\n",
        "\n",
        "    def calculate_salary(self):\n",
        "        return self.hours_worked * self.hourly_rate\n",
        "\n",
        "\n",
        "class Manager(Employee):\n",
        "    def __init__(self, hours_worked, hourly_rate, bonus):\n",
        "        super().__init__(hours_worked, hourly_rate)  # initialize parent\n",
        "        self.bonus = bonus\n",
        "\n",
        "    def calculate_salary(self):\n",
        "        base_salary = super().calculate_salary()  # call Employee's method\n",
        "        return base_salary + self.bonus\n",
        "\n",
        "\n",
        "# Usage\n",
        "emp = Employee(40, 200)      # 40 hours, 200 per hour\n",
        "mgr = Manager(40, 200, 5000) # Manager with a bonus\n",
        "\n",
        "print(\"Employee Salary:\", emp.calculate_salary())\n",
        "print(\"Manager Salary:\", mgr.calculate_salary())\n"
      ],
      "metadata": {
        "colab": {
          "base_uri": "https://localhost:8080/"
        },
        "id": "P_nI2SS_T9zv",
        "outputId": "ba3e8bf5-d299-4083-8e8a-e3a19458b2f1"
      },
      "execution_count": 6,
      "outputs": [
        {
          "output_type": "stream",
          "name": "stdout",
          "text": [
            "Employee Salary: 8000\n",
            "Manager Salary: 13000\n"
          ]
        }
      ]
    },
    {
      "cell_type": "code",
      "source": [
        "'''Q15.Create a class Product with attributes name, price, and quantity. Implement a method total_price() that\n",
        "calculates the total price of the product.'''\n",
        "class Product:\n",
        "    def __init__(self, name, price, quantity):\n",
        "        self.name = name\n",
        "        self.price = price\n",
        "        self.quantity = quantity\n",
        "\n",
        "    def total_price(self):\n",
        "        return self.price * self.quantity\n",
        "\n",
        "\n",
        "# Usage\n",
        "p1 = Product(\"Laptop\", 50000, 2)\n",
        "p2 = Product(\"Phone\", 20000, 3)\n",
        "\n",
        "print(f\"Total price of {p1.name}: {p1.total_price()}\")\n",
        "print(f\"Total price of {p2.name}: {p2.total_price()}\")\n"
      ],
      "metadata": {
        "colab": {
          "base_uri": "https://localhost:8080/"
        },
        "id": "5zvFEiNgU7Sn",
        "outputId": "89b0f7a8-f315-46ad-a121-6782ce25411d"
      },
      "execution_count": 7,
      "outputs": [
        {
          "output_type": "stream",
          "name": "stdout",
          "text": [
            "Total price of Laptop: 100000\n",
            "Total price of Phone: 60000\n"
          ]
        }
      ]
    },
    {
      "cell_type": "code",
      "source": [
        "'''16. Create a class Animal with an abstract method sound(). Create two derived classes Cow and Sheep that\n",
        "implement the sound() method.'''\n",
        "from abc import ABC, abstractmethod\n",
        "\n",
        "class Animal(ABC):\n",
        "    @abstractmethod\n",
        "    def sound(self):\n",
        "        pass\n",
        "\n",
        "\n",
        "class Cow(Animal):\n",
        "    def sound(self):\n",
        "        return \"Moo\"\n",
        "\n",
        "\n",
        "class Sheep(Animal):\n",
        "    def sound(self):\n",
        "        return \"Baa\"\n",
        "\n",
        "\n",
        "# Usage\n",
        "c = Cow()\n",
        "s = Sheep()\n",
        "\n",
        "print(\"Cow sound:\", c.sound())\n",
        "print(\"Sheep sound:\", s.sound())\n"
      ],
      "metadata": {
        "colab": {
          "base_uri": "https://localhost:8080/"
        },
        "id": "BGW2MbAsVGF-",
        "outputId": "42aaff2c-f5ca-4d2d-f10f-ab11dd1bd936"
      },
      "execution_count": 8,
      "outputs": [
        {
          "output_type": "stream",
          "name": "stdout",
          "text": [
            "Cow sound: Moo\n",
            "Sheep sound: Baa\n"
          ]
        }
      ]
    },
    {
      "cell_type": "code",
      "source": [
        "'''Q17. Create a class Book with attributes title, author, and year_published. Implement a method get_book_info()\n",
        "that returns a string with the book details.'''\n",
        "class Book:\n",
        "    def __init__(self, title, author, year_published):\n",
        "        self.title = title\n",
        "        self.author = author\n",
        "        self.year_published = year_published\n",
        "\n",
        "    def get_book_info(self):\n",
        "        return f\"'{self.title}' by {self.author}, published in {self.year_published}\"\n",
        "\n",
        "\n",
        "# Usage\n",
        "b1 = Book(\"Python Basics\", \"John Doe\", 2021)\n",
        "b2 = Book(\"Data Science Guide\", \"Jane Smith\", 2019)\n",
        "\n",
        "print(b1.get_book_info())\n",
        "print(b2.get_book_info())\n"
      ],
      "metadata": {
        "colab": {
          "base_uri": "https://localhost:8080/"
        },
        "id": "lxqSCVi4XvL3",
        "outputId": "aa27c7ea-e823-4374-8a24-1cc57dae17e7"
      },
      "execution_count": 9,
      "outputs": [
        {
          "output_type": "stream",
          "name": "stdout",
          "text": [
            "'Python Basics' by John Doe, published in 2021\n",
            "'Data Science Guide' by Jane Smith, published in 2019\n"
          ]
        }
      ]
    },
    {
      "cell_type": "code",
      "source": [
        "'''Q18. Create a class House with attributes address and price. Create a derived class Mansion that adds an\n",
        "attribute number_of_rooms.'''\n",
        "class House:\n",
        "    def __init__(self, address, price):\n",
        "        self.address = address\n",
        "        self.price = price\n",
        "\n",
        "\n",
        "class Mansion(House):\n",
        "    def __init__(self, address, price, number_of_rooms):\n",
        "        super().__init__(address, price)   # initialize parent class\n",
        "        self.number_of_rooms = number_of_rooms\n",
        "\n",
        "\n",
        "# Usage\n",
        "h = House(\"123 Main St\", 5000000)\n",
        "m = Mansion(\"456 Luxury Ave\", 20000000, 15)\n",
        "\n",
        "print(\"House:\", h.address, \"-\", h.price)\n",
        "print(\"Mansion:\", m.address, \"-\", m.price, \"-\", m.number_of_rooms, \"rooms\")\n"
      ],
      "metadata": {
        "colab": {
          "base_uri": "https://localhost:8080/"
        },
        "id": "OktuV37MX6X_",
        "outputId": "ff9f921a-5003-40b4-acea-2c4ab3d28ed9"
      },
      "execution_count": 10,
      "outputs": [
        {
          "output_type": "stream",
          "name": "stdout",
          "text": [
            "House: 123 Main St - 5000000\n",
            "Mansion: 456 Luxury Ave - 20000000 - 15 rooms\n"
          ]
        }
      ]
    }
  ]
}