{
  "nbformat": 4,
  "nbformat_minor": 0,
  "metadata": {
    "colab": {
      "provenance": []
    },
    "kernelspec": {
      "name": "python3",
      "display_name": "Python 3"
    },
    "language_info": {
      "name": "python"
    }
  },
  "cells": [
    {
      "cell_type": "code",
      "execution_count": null,
      "metadata": {
        "colab": {
          "base_uri": "https://localhost:8080/"
        },
        "id": "ecs9IEWpHNEN",
        "outputId": "2c0c0730-ce97-45ee-b9c0-82d6bc672270"
      },
      "outputs": [
        {
          "output_type": "stream",
          "name": "stdout",
          "text": [
            "hello\n"
          ]
        }
      ],
      "source": [
        "a = \"hello\"\n",
        "print(a)"
      ]
    },
    {
      "cell_type": "code",
      "source": [
        "#Q1.Write a code to create a string with your name and print iT.\n",
        "name = \"noorain wakil\"\n",
        "print(name)"
      ],
      "metadata": {
        "colab": {
          "base_uri": "https://localhost:8080/"
        },
        "id": "h-jcbw74INRq",
        "outputId": "5e1750ec-d712-4d87-8bb7-29d94afae4b1"
      },
      "execution_count": null,
      "outputs": [
        {
          "output_type": "stream",
          "name": "stdout",
          "text": [
            "noorain wakil\n"
          ]
        }
      ]
    },
    {
      "cell_type": "code",
      "source": [
        "#Q.2  Write a code to find the length of the string \"Hello World\"\n",
        "a = \"Hello World\"\n",
        "print(len(a))"
      ],
      "metadata": {
        "colab": {
          "base_uri": "https://localhost:8080/"
        },
        "id": "2kRD92FRIgOL",
        "outputId": "a085c04e-0ef4-4d49-aca2-10162fa44ce5"
      },
      "execution_count": null,
      "outputs": [
        {
          "output_type": "stream",
          "name": "stdout",
          "text": [
            "11\n"
          ]
        }
      ]
    },
    {
      "cell_type": "code",
      "source": [
        "#Q3.Write a code to slice the first 3 characters from the string \"Python Programming\"\n",
        "a = \"python programming\"\n",
        "print(a[0:3])"
      ],
      "metadata": {
        "colab": {
          "base_uri": "https://localhost:8080/"
        },
        "id": "nDePmEs3If4Q",
        "outputId": "e4d71886-bb98-4ec1-ddde-b63e1d75be5a"
      },
      "execution_count": null,
      "outputs": [
        {
          "output_type": "stream",
          "name": "stdout",
          "text": [
            "pyt\n"
          ]
        }
      ]
    },
    {
      "cell_type": "code",
      "source": [
        "#Q4. Write a code to convert the string \"hello\" to uppercase\n",
        "a = \"hello\"\n",
        "uppercased = a.upper()\n",
        "print(uppercased)"
      ],
      "metadata": {
        "colab": {
          "base_uri": "https://localhost:8080/"
        },
        "id": "ZDrNa6iUKHCt",
        "outputId": "6eadb130-f91c-4ceb-c0c1-170c6d801986"
      },
      "execution_count": null,
      "outputs": [
        {
          "output_type": "stream",
          "name": "stdout",
          "text": [
            "HELLO\n"
          ]
        }
      ]
    },
    {
      "cell_type": "code",
      "source": [
        "#Q5.Write a code to replace the word \"apple\" with \"orange\" in the string \"I like apple\"\n",
        "a = \" I like apple.\"\n",
        "replaced_string = a.replace(\"apple\",\"orange\")\n",
        "print(replaced_string)\n"
      ],
      "metadata": {
        "colab": {
          "base_uri": "https://localhost:8080/"
        },
        "id": "k4Vt8qScMd6W",
        "outputId": "4c7ac89c-a427-4ab6-f646-afa250fe424d"
      },
      "execution_count": null,
      "outputs": [
        {
          "output_type": "stream",
          "name": "stdout",
          "text": [
            " I like orange\n"
          ]
        }
      ]
    },
    {
      "cell_type": "code",
      "source": [
        "#Q6. Write a code to create a list with numbers 1 to 5 and print it.\n",
        "a = list(range(1,6))\n",
        "print(a)"
      ],
      "metadata": {
        "colab": {
          "base_uri": "https://localhost:8080/"
        },
        "id": "9xVLe0hzNX3N",
        "outputId": "b5972bf4-460d-4446-9c7b-46a3d2fe4f66"
      },
      "execution_count": null,
      "outputs": [
        {
          "output_type": "stream",
          "name": "stdout",
          "text": [
            "[1, 2, 3, 4, 5]\n"
          ]
        }
      ]
    },
    {
      "cell_type": "code",
      "source": [
        "#Q.7 Write a code to append the number 10 to the list [1, 2, 3, 4]\n",
        "a = [1,2,3,4]\n",
        "a.append(10)\n",
        "a"
      ],
      "metadata": {
        "colab": {
          "base_uri": "https://localhost:8080/"
        },
        "id": "RIHFundxOYmG",
        "outputId": "22ef2431-b8cd-4b3c-c545-59ca06859af1"
      },
      "execution_count": null,
      "outputs": [
        {
          "output_type": "execute_result",
          "data": {
            "text/plain": [
              "[1, 2, 3, 4, 10]"
            ]
          },
          "metadata": {},
          "execution_count": 22
        }
      ]
    },
    {
      "cell_type": "code",
      "source": [
        "#Q.8 Write a code to remove the number 3 from the list [1, 2, 3, 4, 5]\n",
        "a = [1,2,3,4,5]\n",
        "a.pop(2)\n",
        "a"
      ],
      "metadata": {
        "colab": {
          "base_uri": "https://localhost:8080/"
        },
        "id": "Q_Z-xlK2Ox2B",
        "outputId": "b978d3bd-3bfc-4987-8142-c29c48f35595"
      },
      "execution_count": null,
      "outputs": [
        {
          "output_type": "execute_result",
          "data": {
            "text/plain": [
              "[1, 2, 4, 5]"
            ]
          },
          "metadata": {},
          "execution_count": 24
        }
      ]
    },
    {
      "cell_type": "code",
      "source": [
        "#Q9. Write a code to access the second element in the list ['a', 'b', 'c', 'd']\n",
        "list = ['a','b','c','d']\n",
        "for i in list:\n",
        "    print(list[1])\n",
        "    break\n",
        "\n"
      ],
      "metadata": {
        "colab": {
          "base_uri": "https://localhost:8080/"
        },
        "id": "VLReNOVyPFDv",
        "outputId": "73b3fa97-5380-44a5-acf8-5ecf4a670a28"
      },
      "execution_count": null,
      "outputs": [
        {
          "output_type": "stream",
          "name": "stdout",
          "text": [
            "b\n"
          ]
        }
      ]
    },
    {
      "cell_type": "code",
      "source": [
        "#Q10. Write a code to reverse the list [10, 20, 30, 40, 50].\n",
        "number = [10,20,30,40,50]\n",
        "reversed_list = number[::-1]\n",
        "print(reversed_list)\n"
      ],
      "metadata": {
        "colab": {
          "base_uri": "https://localhost:8080/"
        },
        "id": "x8vooNSGQAWq",
        "outputId": "1f62f7c2-7690-418a-c4a6-e3d4169c3945"
      },
      "execution_count": null,
      "outputs": [
        {
          "output_type": "stream",
          "name": "stdout",
          "text": [
            "[50, 40, 30, 20, 10]\n"
          ]
        }
      ]
    },
    {
      "cell_type": "code",
      "source": [
        "#Q11.Write a code to create a tuple with the elements 100, 200, 300 and print it.\n",
        "my_tuple = (100,200,300)\n",
        "print(my_tuple)"
      ],
      "metadata": {
        "colab": {
          "base_uri": "https://localhost:8080/"
        },
        "id": "PQICnfEbze4K",
        "outputId": "44d6f8a2-905a-4102-f923-d0d52b9204b2"
      },
      "execution_count": null,
      "outputs": [
        {
          "output_type": "stream",
          "name": "stdout",
          "text": [
            "(100, 200, 300)\n"
          ]
        }
      ]
    },
    {
      "cell_type": "code",
      "source": [
        "#Q12. Write a code to access the second-to-last element of the tuple ('red', 'green', 'blue', 'yellow').\n",
        "my_tuple  = ('red','green','blue','yellow')\n",
        "print(my_tuple[-2])"
      ],
      "metadata": {
        "colab": {
          "base_uri": "https://localhost:8080/"
        },
        "id": "m4t28Unn1E_i",
        "outputId": "173dbff3-8f12-4351-f3c2-f045d5343bd6"
      },
      "execution_count": null,
      "outputs": [
        {
          "output_type": "stream",
          "name": "stdout",
          "text": [
            "blue\n"
          ]
        }
      ]
    },
    {
      "cell_type": "code",
      "source": [
        "#Q13. Write a code to find the minimum number in the tuple (10, 20, 5, 15).\n",
        "my_tuple = (10,20,5,15)\n",
        "min_number = min(my_tuple)\n",
        "print(min_number)"
      ],
      "metadata": {
        "colab": {
          "base_uri": "https://localhost:8080/"
        },
        "id": "RGamudoV17gD",
        "outputId": "a9fc204c-39f3-4d14-d650-4932440b9cf9"
      },
      "execution_count": null,
      "outputs": [
        {
          "output_type": "stream",
          "name": "stdout",
          "text": [
            "5\n"
          ]
        }
      ]
    },
    {
      "cell_type": "code",
      "source": [
        "#Q14 Write a code to find the index of the element \"cat\" in the tuple ('dog', 'cat', 'rabbit')\n",
        "animal = (\"dog\",\"cat\",\"rabbit\")\n",
        "index_of_cat = animal.index(\"cat\")\n",
        "print(index_of_cat)"
      ],
      "metadata": {
        "colab": {
          "base_uri": "https://localhost:8080/"
        },
        "id": "wtKW5zKH505z",
        "outputId": "858209e6-983d-4112-e1fc-2735d50e5749"
      },
      "execution_count": null,
      "outputs": [
        {
          "output_type": "stream",
          "name": "stdout",
          "text": [
            "1\n"
          ]
        }
      ]
    },
    {
      "cell_type": "code",
      "source": [
        "#Q15 Write a code to create a tuple containing three different fruits and check if \"kiwi\" is in it.\n",
        "fruits = ('apple', 'banana', 'mango',\"kiwi\")\n",
        "\n",
        "if 'kiwi' in fruits:\n",
        "    print(\"Kiwi is in the tuple.\")\n",
        "else:\n",
        "    print(\"Kiwi is not in the tuple.\")\n"
      ],
      "metadata": {
        "colab": {
          "base_uri": "https://localhost:8080/"
        },
        "id": "0wnnkpRu77E9",
        "outputId": "98fbcb9a-4fcf-43ab-f7cf-85d49e57a54f"
      },
      "execution_count": null,
      "outputs": [
        {
          "output_type": "stream",
          "name": "stdout",
          "text": [
            "Kiwi is in the tuple.\n"
          ]
        }
      ]
    },
    {
      "cell_type": "code",
      "source": [
        "#Q16.Write a code to create a set with the elements 'a', 'b', 'c' and print it\n",
        "my_set = {'a','b','c'}\n",
        "print(my_set)"
      ],
      "metadata": {
        "colab": {
          "base_uri": "https://localhost:8080/"
        },
        "id": "qZZgYKYqOCzM",
        "outputId": "1b5f23f4-5bad-4076-e491-7856394aff20"
      },
      "execution_count": null,
      "outputs": [
        {
          "output_type": "stream",
          "name": "stdout",
          "text": [
            "{'c', 'a', 'b'}\n"
          ]
        }
      ]
    },
    {
      "cell_type": "code",
      "source": [
        "#Q17.. Write a code to clear all elements from the set {1, 2, 3, 4, 5}.\n",
        "my_set = {1,2,3,4,5}\n",
        "my_set.clear()\n",
        "print(my_set)"
      ],
      "metadata": {
        "colab": {
          "base_uri": "https://localhost:8080/"
        },
        "id": "NQBU_XJeOz_C",
        "outputId": "f2160c05-3197-48a8-ca9f-0fe1c308c5a2"
      },
      "execution_count": null,
      "outputs": [
        {
          "output_type": "stream",
          "name": "stdout",
          "text": [
            "set()\n"
          ]
        }
      ]
    },
    {
      "cell_type": "code",
      "source": [
        "#Q18.Write a code to remove the element 4 from the set {1, 2, 3, 4}.\n",
        "numbers= {1, 2, 3, 4, 5}\n",
        "element= 4\n",
        "if element in numbers:\n",
        "  numbers.remove(element)\n",
        "  print(f\"{element} removed sucessfully\")\n",
        "else:\n",
        "  print(\"element not in set\")\n",
        "\n",
        "print(\"updated set\",numbers)"
      ],
      "metadata": {
        "colab": {
          "base_uri": "https://localhost:8080/"
        },
        "id": "4Fy-NOWtO6HK",
        "outputId": "a5b53c9e-1f13-4bef-852f-93266eb36ad5"
      },
      "execution_count": null,
      "outputs": [
        {
          "output_type": "stream",
          "name": "stdout",
          "text": [
            "4 removed sucessfully\n",
            "updated set {1, 2, 3, 5}\n"
          ]
        }
      ]
    },
    {
      "cell_type": "code",
      "source": [
        "#Q9. Write a code to find the union of two sets {1, 2, 3} and {3, 4, 5}\n",
        "set1 = {1, 2, 3}\n",
        "set2 = {3, 4, 5}\n",
        "\n",
        "union_set = set1 | set2\n",
        "\n",
        "print(\"Union of the sets:\", union_set)\n"
      ],
      "metadata": {
        "colab": {
          "base_uri": "https://localhost:8080/"
        },
        "id": "0yYjQGSzRbFo",
        "outputId": "e5640105-b4b6-42da-bde8-0b6ec61dca18"
      },
      "execution_count": null,
      "outputs": [
        {
          "output_type": "stream",
          "name": "stdout",
          "text": [
            "Union of the sets: {1, 2, 3, 4, 5}\n"
          ]
        }
      ]
    },
    {
      "cell_type": "code",
      "source": [
        "#Q20. Write a code to find the intersection of two sets {1, 2, 3} and {2, 3, 4}.\n",
        "s1 = {1,2,3}\n",
        "s2 = {2,3,4}\n",
        "new_set = s1 & s2\n",
        "print(new_set)"
      ],
      "metadata": {
        "colab": {
          "base_uri": "https://localhost:8080/"
        },
        "id": "lVaNUGdORocu",
        "outputId": "1638dd75-f69d-4ecc-e622-e055cfb1ffb9"
      },
      "execution_count": null,
      "outputs": [
        {
          "output_type": "stream",
          "name": "stdout",
          "text": [
            "{2, 3}\n"
          ]
        }
      ]
    },
    {
      "cell_type": "code",
      "source": [
        "#Q 21. Write a code to create a dictionary with the keys \"name\", \"age\", and \"city\", and print it.\n",
        "d = {\"name\" : \"noorain\", \"age\" : \"21\", \"city\" : \"bihar\"}"
      ],
      "metadata": {
        "id": "UIlgFsWXwa8T"
      },
      "execution_count": null,
      "outputs": []
    },
    {
      "cell_type": "code",
      "source": [
        "d['name']"
      ],
      "metadata": {
        "colab": {
          "base_uri": "https://localhost:8080/",
          "height": 36
        },
        "id": "AYUtpCfGxYaQ",
        "outputId": "71f52ab0-648b-4a5d-84bd-99d4443af48d"
      },
      "execution_count": null,
      "outputs": [
        {
          "output_type": "execute_result",
          "data": {
            "text/plain": [
              "'noorain'"
            ],
            "application/vnd.google.colaboratory.intrinsic+json": {
              "type": "string"
            }
          },
          "metadata": {},
          "execution_count": 7
        }
      ]
    },
    {
      "cell_type": "code",
      "source": [
        "d['age']"
      ],
      "metadata": {
        "colab": {
          "base_uri": "https://localhost:8080/",
          "height": 36
        },
        "id": "4sPWqpj9xctW",
        "outputId": "22052507-0928-495b-9e06-87fb16d1f48f"
      },
      "execution_count": null,
      "outputs": [
        {
          "output_type": "execute_result",
          "data": {
            "text/plain": [
              "'21'"
            ],
            "application/vnd.google.colaboratory.intrinsic+json": {
              "type": "string"
            }
          },
          "metadata": {},
          "execution_count": 8
        }
      ]
    },
    {
      "cell_type": "code",
      "source": [
        "d['city']"
      ],
      "metadata": {
        "colab": {
          "base_uri": "https://localhost:8080/",
          "height": 36
        },
        "id": "KI7eabLnxjom",
        "outputId": "a441bd14-d3e6-4987-d522-62887aef022b"
      },
      "execution_count": null,
      "outputs": [
        {
          "output_type": "execute_result",
          "data": {
            "text/plain": [
              "'bihar'"
            ],
            "application/vnd.google.colaboratory.intrinsic+json": {
              "type": "string"
            }
          },
          "metadata": {},
          "execution_count": 9
        }
      ]
    },
    {
      "cell_type": "code",
      "source": [
        "#Q22. Write a code to add a new key-value pair \"country\": \"USA\" to the dictionary {'name': 'John', 'age': 25}.\n",
        "d = {'name': 'John', 'age': 25}\n",
        "d\n",
        "d1 = {\"country\" : \"ds\"}\n",
        "d.update(d1)"
      ],
      "metadata": {
        "id": "2_qCB5C1Sv4V"
      },
      "execution_count": null,
      "outputs": []
    },
    {
      "cell_type": "code",
      "source": [
        "#Q23. Write a code to access the value associated with the key \"name\" in the dictionary {'name': 'Alice', 'age': 30}.\n",
        "d = {'name': 'Alice', 'age': 30}\n",
        "d['name']"
      ],
      "metadata": {
        "colab": {
          "base_uri": "https://localhost:8080/",
          "height": 36
        },
        "id": "tLDTO4HOT8ds",
        "outputId": "b2711f0d-2456-4bcc-e754-eb377df9bcb6"
      },
      "execution_count": null,
      "outputs": [
        {
          "output_type": "execute_result",
          "data": {
            "text/plain": [
              "'Alice'"
            ],
            "application/vnd.google.colaboratory.intrinsic+json": {
              "type": "string"
            }
          },
          "metadata": {},
          "execution_count": 45
        }
      ]
    },
    {
      "cell_type": "code",
      "source": [
        "#Q24  Write a code to remove the key \"age\" from the dictionary {'name': 'Bob', 'age': 22, 'city': 'New York'}\n",
        "d = {'name': 'Bob', 'age': 22, 'city': 'New York'}\n",
        "del d['age']\n",
        "d"
      ],
      "metadata": {
        "colab": {
          "base_uri": "https://localhost:8080/"
        },
        "id": "qHO7yexBUl5G",
        "outputId": "2af97ddc-a7c4-4139-b2f4-e4daa44e5015"
      },
      "execution_count": null,
      "outputs": [
        {
          "output_type": "execute_result",
          "data": {
            "text/plain": [
              "{'name': 'Bob', 'city': 'New York'}"
            ]
          },
          "metadata": {},
          "execution_count": 47
        }
      ]
    },
    {
      "cell_type": "code",
      "source": [
        "#Q25. Write a code to check if the key \"city\" exists in the dictionary {'name': 'Alice', 'city': 'Paris'}.\n",
        "d = {'name': 'Alice', 'city': 'Paris'}\n",
        "d.get('city')"
      ],
      "metadata": {
        "colab": {
          "base_uri": "https://localhost:8080/",
          "height": 36
        },
        "id": "2cWu-9peU8tY",
        "outputId": "3a1a3d22-3ddb-4ef2-e9d4-45cc2f2420be"
      },
      "execution_count": null,
      "outputs": [
        {
          "output_type": "execute_result",
          "data": {
            "text/plain": [
              "'Paris'"
            ],
            "application/vnd.google.colaboratory.intrinsic+json": {
              "type": "string"
            }
          },
          "metadata": {},
          "execution_count": 51
        }
      ]
    },
    {
      "cell_type": "code",
      "source": [
        "#Q26. Write a code to create a list, a tuple, and a dictionary, and print them all.\n",
        "my_list = [ 1,3,\"noorain\",3+4j, \"true\"]\n",
        "my_tuple = (2,4,82,2)\n",
        "my_dict = {\"name\": \"faizan\", \"age\": \"21\", \"address\": \"bihar\"}\n",
        "my_list"
      ],
      "metadata": {
        "colab": {
          "base_uri": "https://localhost:8080/"
        },
        "id": "3SOl6H3HX4ls",
        "outputId": "bd124546-c5f4-4a72-df1b-aa590b69fc7f"
      },
      "execution_count": null,
      "outputs": [
        {
          "output_type": "execute_result",
          "data": {
            "text/plain": [
              "[1, 3, 'noorain', (3+4j), 'true']"
            ]
          },
          "metadata": {},
          "execution_count": 53
        }
      ]
    },
    {
      "cell_type": "code",
      "source": [
        "my_tuple"
      ],
      "metadata": {
        "colab": {
          "base_uri": "https://localhost:8080/"
        },
        "id": "-S2hGvWcZnYo",
        "outputId": "aa300cb0-2c16-443a-e279-9ac0640a7d34"
      },
      "execution_count": null,
      "outputs": [
        {
          "output_type": "execute_result",
          "data": {
            "text/plain": [
              "(2, 4, 82, 2)"
            ]
          },
          "metadata": {},
          "execution_count": 54
        }
      ]
    },
    {
      "cell_type": "code",
      "source": [
        "my_dict"
      ],
      "metadata": {
        "colab": {
          "base_uri": "https://localhost:8080/"
        },
        "id": "_JqSc3zJZtPT",
        "outputId": "18ad2cba-ef1a-49f6-92a8-fae5172a5dcd"
      },
      "execution_count": null,
      "outputs": [
        {
          "output_type": "execute_result",
          "data": {
            "text/plain": [
              "{'name': 'faizan', 'age': '21', 'address': 'bihar'}"
            ]
          },
          "metadata": {},
          "execution_count": 55
        }
      ]
    },
    {
      "cell_type": "code",
      "source": [
        "#Q27 Write a code to create a list of 5 random numbers between 1 and 100, sort it in ascending order, and print the result.(replaced) just explain not give the code\n",
        "import random\n",
        "numbers = []\n",
        "for i in range(5):\n",
        "  num = random.randint(1,100)\n",
        "  numbers.append(num)\n",
        "numbers.sort()\n",
        "print(numbers)\n"
      ],
      "metadata": {
        "colab": {
          "base_uri": "https://localhost:8080/"
        },
        "id": "SGpZBLy5aZk8",
        "outputId": "211ecbd3-7659-4243-ea4d-41e71d800efb"
      },
      "execution_count": null,
      "outputs": [
        {
          "output_type": "stream",
          "name": "stdout",
          "text": [
            "[1, 20, 43, 53, 71]\n"
          ]
        }
      ]
    },
    {
      "cell_type": "code",
      "source": [
        "#Q28. Write a code to create a list with strings and print the element at the third index.\n",
        "# create a list with strings\n",
        "fruits = [\"apple\", \"banana\", \"cherry\", \"mango\", \"orange\"]\n",
        "for i in range(len(fruits)):\n",
        "    if i == 3:\n",
        "        print(\"Element at index 3:\", fruits[i])\n"
      ],
      "metadata": {
        "colab": {
          "base_uri": "https://localhost:8080/"
        },
        "id": "2TEQGyKti4ch",
        "outputId": "824e5cc6-63a3-4239-e742-4c9e594e2799"
      },
      "execution_count": null,
      "outputs": [
        {
          "output_type": "stream",
          "name": "stdout",
          "text": [
            "Element at index 3: mango\n"
          ]
        }
      ]
    },
    {
      "cell_type": "code",
      "source": [
        "#Q29. Write a code to combine two dictionaries into one and print the result\n",
        "# create two dictionaries\n",
        "dict1 = {\"name\": \"Alice\", \"age\": 25}\n",
        "dict2 = {\"city\": \"Paris\", \"country\": \"France\"}\n",
        "combined_dict = {**dict1, **dict2}\n",
        "print(\"Combined Dictionary:\", combined_dict)\n"
      ],
      "metadata": {
        "colab": {
          "base_uri": "https://localhost:8080/"
        },
        "id": "OGcwR5Jpj37S",
        "outputId": "b0dea99f-10c7-439b-986a-39b0a2637b3d"
      },
      "execution_count": null,
      "outputs": [
        {
          "output_type": "stream",
          "name": "stdout",
          "text": [
            "Combined Dictionary: {'name': 'Alice', 'age': 25, 'city': 'Paris', 'country': 'France'}\n"
          ]
        }
      ]
    },
    {
      "cell_type": "code",
      "source": [
        "#Q 30. Write a code to convert a list of strings into a set.\n",
        "my_list = [\"apple\",\"banana\",11,\"true\"]\n",
        "s = set(my_list)\n",
        "s"
      ],
      "metadata": {
        "colab": {
          "base_uri": "https://localhost:8080/"
        },
        "id": "6h2A-G8okIsr",
        "outputId": "e4c1c516-4125-4e19-c02b-22c25e422ad4"
      },
      "execution_count": null,
      "outputs": [
        {
          "output_type": "execute_result",
          "data": {
            "text/plain": [
              "{11, 'apple', 'banana', 'true'}"
            ]
          },
          "metadata": {},
          "execution_count": 78
        }
      ]
    },
    {
      "cell_type": "markdown",
      "source": [
        "Q1.What are data structures?\n",
        "\n",
        "- Data structures are just ways of storing and arranging data in a computer so that we can use it easily and quickly.\n",
        "\n",
        "Example:\n",
        "\n",
        "- If you have a list of names, you might keep them in a list/array.\n",
        "\n",
        "- If you want to check who came first in a line, you’d use a queue.\n",
        "\n",
        "- If you want “last thing first” (like undo in Word), you’d use a stack.\n",
        "\n",
        "Why are they important?\n",
        "\n",
        "- Because the way you organize data changes how fast your program runs.\n",
        "\n",
        "- Looking up a phone number in a messy notebook takes time.\n",
        "\n",
        "Same idea in programming:\n",
        "\n",
        "If you pick the wrong structure → program is slow.\n",
        "\n",
        "If you pick the right one → program is fast and efficient."
      ],
      "metadata": {
        "id": "KbhjowK6vJFG"
      }
    },
    {
      "cell_type": "markdown",
      "source": [
        "#Q2. Explain the difference between mutable and immutable data types with examples\n",
        "- Mutable Example: List\n",
        "numbers = [1, 2, 3]\n",
        "print(\"Before:\", numbers)\n",
        "print(\"Memory address (id):\", id(numbers))\n",
        "\n",
        "numbers.append(4)\n",
        "print(\"After:\", numbers)\n",
        "print(\"Memory address (id):\", id(numbers))  # same as before\n",
        "# Immutable Example: String\n",
        "name = \"Faizan\"  \n",
        "print(\"Before:\", name)  \n",
        "print(\"Memory address (id):\", id(name))\n",
        "\n",
        "name = name + \" Khan\"  \n",
        "print(\"After:\", name)  \n",
        "print(\"Memory address (id):\", id(name))"
      ],
      "metadata": {
        "id": "5kumyzyfwm54"
      }
    },
    {
      "cell_type": "markdown",
      "source": [
        "#Q3  What are the main differences between lists and tuples in Python\n",
        "- Difference between List and Tuple in Python\n",
        "\n",
        "- List → Changeable (Mutable), written with []\n",
        "\n",
        "- Tuple → Not Changeable (Immutable), written with ()\n",
        "\n",
        "# List (can change)\n",
        "a = [1, 2, 3]\n",
        "a[0] = 10   # works\n",
        "print(a)    # [10, 2, 3]\n",
        "\n",
        "# Tuple (cannot change)\n",
        "b = (1, 2, 3)\n",
        "b[0] = 10   # Error"
      ],
      "metadata": {
        "id": "Gzbi_Z1jxQH1"
      }
    },
    {
      "cell_type": "markdown",
      "source": [
        "#Q4 How Dictionaries Store Data in Python\n",
        "\n",
        "- A dictionary in Python stores data as key–value pairs.\n",
        "\n",
        "- Key → like a label (must be unique and immutable, e.g., string, number, tuple).\n",
        "\n",
        "- Value → the data associated with that key (can be anything).\n",
        "\n",
        "Example:\n",
        "\n",
        "student = {\n",
        "    \"name\": \"Faizan\",\n",
        "    \"age\": 21,\n",
        "    \"course\": \"B.Tech\"\n",
        "}\n",
        "\n",
        "\n",
        "Here:\n",
        "\n",
        "\"name\", \"age\", \"course\" are keys.\n",
        "\n",
        "\"Faizan\", 21, \"B.Tech\" are values.\n",
        "\n",
        "How Python actually stores it\n",
        "\n",
        "Internally, dictionaries use a hash table.\n",
        "\n",
        "- When you create a dictionary:\n",
        "\n",
        "Python takes the key (say \"name\")\n",
        "\n",
        "Applies a hash function to it → produces a number (hash value).\n",
        "\n",
        "That hash value decides where in memory the value (\"Faizan\") will be stored.\n",
        "\n",
        "This makes lookup very fast.\n",
        "\n",
        "student[\"name\"] can be found almost instantly using the hash value."
      ],
      "metadata": {
        "id": "QcJjZHHyyhsY"
      }
    },
    {
      "cell_type": "markdown",
      "source": [],
      "metadata": {
        "id": "p1F0T7vMwMso"
      }
    },
    {
      "cell_type": "markdown",
      "source": [
        "#Q5. Why use a Set instead of a List in Python?\n",
        "\n",
        "- No Duplicates Allowed\n",
        "\n",
        "- A set automatically removes duplicate elements.\n",
        "\n",
        "numbers = [1, 2, 2, 3, 3, 3]\n",
        "print(list(set(numbers)))  # [1, 2, 3]\n",
        "\n",
        "\n",
        "- Faster Lookups\n",
        "\n",
        "Checking if an item exists in a set is much faster than in a list, because sets use hash tables internally.\n",
        "\n",
        "nums_list = [1, 2, 3, 4, 5]\n",
        "nums_set = {1, 2, 3, 4, 5}\n",
        "\n",
        "print(3 in nums_list)  # slower\n",
        "print(3 in nums_set)   # faster\n",
        "\n",
        "\n",
        "- Set Operations (Mathematical)\n",
        "\n",
        "Sets let you do union, intersection, difference easily. Lists don’t.\n",
        "\n",
        "a = {1, 2, 3}\n",
        "b = {3, 4, 5}\n",
        "\n",
        "print(a.union(b))        \n",
        "print(a.intersection(b))   \n",
        "print(a.difference(b))   \n"
      ],
      "metadata": {
        "id": "5r-aVleizFEI"
      }
    },
    {
      "cell_type": "markdown",
      "source": [
        "#Q6 What is a String in Python?\n",
        "\n",
        "- A string is a sequence of characters enclosed in quotes (' ' or \" \").\n",
        "\n",
        "Example:\n",
        "\n",
        "text = \"Hello\"\n",
        "\n",
        "- Difference between String and List\n",
        "# String example\n",
        "s = \"hello\"\n",
        "print(s[0])              \n",
        "\n",
        "- # List example\n",
        "lst = [1, 2, 3, 4]\n",
        "print(lst[0])      \n",
        "lst[0] = 10        \n",
        "print(lst)        \n"
      ],
      "metadata": {
        "id": "erAurYrQzTAj"
      }
    },
    {
      "cell_type": "markdown",
      "source": [
        "#Q7 How Tuples Ensure Data Integrity in Python\n",
        "\n",
        "- Immutability (Cannot Change)\n",
        "\n",
        "- Once a tuple is created, its contents cannot be modified (no adding, removing, or changing elements).\n",
        "\n",
        "- This ensures that the data stays safe and constant throughout the program.\n",
        "\n",
        "- t = (1, 2, 3)\n",
        "# t[0] = 10  \n",
        "\n",
        "\n",
        "- Prevents Accidental Changes\n",
        "\n",
        "- Because you cannot alter a tuple, it avoids bugs where data gets changed unexpectedly in the program.\n",
        "\n",
        "- Example: if you pass a tuple of configuration values into a function, you can be sure the function won’t change them.\n",
        "\n",
        "- Safe to Use as Dictionary Keys / Set Elements\n",
        "\n",
        "- Since tuples are immutable, they can be hashed and used as keys in a dictionary or elements in a set (lists cannot).\n",
        "\n",
        "- This ensures consistent lookups.\n",
        "\n",
        "- coords = {(10, 20): \"point A\", (30, 40): \"point B\"}\n",
        "print(coords[(10, 20)])  # point A\n",
        "\n",
        "\n",
        "- Predictable and Reliable Data\n",
        "\n",
        "- Tuples are often used when the data should remain fixed (like dates, RGB colors, geographic coordinates).\n",
        "\n",
        "- This makes them reliable containers for values that represent a single, unchangeable record.\n",
        "\n",
        "- Quick Example\n",
        "# Student record as a tuple\n",
        "student = (\"Faizan\", 21, \"B.Tech\")\n",
        "\n",
        "- print(student[0])  \n",
        "# student[1] = 22  \n",
        "\n"
      ],
      "metadata": {
        "id": "BK3tYqxV0Cnw"
      }
    },
    {
      "cell_type": "markdown",
      "source": [
        "#Q8 What is a Hash Table?\n",
        "\n",
        "A hash table is a data structure that stores data in key–value pairs.\n",
        "\n",
        "- It uses a hash function to convert a key into a number (called a hash).\n",
        "\n",
        "- That hash decides where in memory the value is stored.\n",
        "\n",
        "- This makes finding values very fast (on average O(1) time)\n",
        "\n",
        "How Dictionaries Use Hash Tables in Python\n",
        "\n",
        "- A dictionary in Python is implemented using a hash table.\n",
        "\n",
        "- When you do:\n",
        "student = {\"name\": \"Faizan\", \"age\": 21}\n",
        "Internally, Python:\n",
        "\n",
        "- Takes the key \"name\".\n",
        "\n",
        "- Runs it through a hash function → produces a hash value (a number).\n",
        "\n",
        "- Uses that hash value to decide where \"Faizan\" should be stored in memory.\n",
        "\n",
        "- Later, when you do student[\"name\"], Python:\n",
        "\n",
        "- Hashes the key \"name\" again.\n",
        "\n",
        "- student = {\"name\": \"Faizan\", \"age\": 21}\n",
        "\n",
        "print(student[\"name\"])  # Quick lookup using hash table\n",
        "print(student[\"age\"])\n",
        "\n"
      ],
      "metadata": {
        "id": "13ZYayt91Qr3"
      }
    },
    {
      "cell_type": "markdown",
      "source": [
        "#Q9. Can lists contain different data types in Python?\n",
        "- mixed_list = [10, \"Hello\", 3.14, True, [1, 2, 3]]\n",
        "\n",
        "print(mixed_list)\n",
        "print(type(mixed_list[0]))  # int\n",
        "print(type(mixed_list[1]))  # str\n",
        "print(type(mixed_list[2]))  # float\n",
        "print(type(mixed_list[3]))  # bool\n",
        "print(type(mixed_list[4]))  # list\n",
        "\n"
      ],
      "metadata": {
        "id": "0AzWSfFa1-iB"
      }
    },
    {
      "cell_type": "markdown",
      "source": [
        "#Q10 Why are Strings Immutable in Python?\n",
        "\n",
        "Memory Efficiency (String Interning)\n",
        "\n",
        "- Python often reuses string objects with the same value to save memory.\n",
        "\n",
        "Example:\n",
        "\n",
        "a = \"hello\"\n",
        "b = \"hello\"\n",
        "print(id(a), id(b))  # same memory address\n",
        "\n",
        "\n",
        "- If strings were mutable, changing a would also change b, which would be unsafe.\n",
        "\n",
        "Hashing and Dictionary Keys\n",
        "\n",
        "- Strings are often used as keys in dictionaries (which rely on hashing).\n",
        "\n",
        "- If strings could change, their hash values would also change → making dictionary lookups unreliable.\n",
        "\n",
        "Example:\n",
        "\n",
        "student = {\"name\": \"Faizan\"}\n",
        "\n",
        "Thread-Safety\n",
        "\n",
        "- Since strings can’t change, they are safe to share between multiple parts of a program (or threads) without worrying that one part will accidentally modify the data for another.\n",
        "\n",
        "- Simplicity and Reliability\n",
        "\n",
        "- Immutable strings prevent accidental modification.\n",
        "\n",
        "Example:\n",
        "\n",
        "text = \"Python\"\n",
        "text[0] = \"J\"   \n"
      ],
      "metadata": {
        "id": "z_pSqwEj2Zii"
      }
    },
    {
      "cell_type": "markdown",
      "source": [
        "#Q11 Advantages of dictionaries over lists:\n",
        "\n",
        "- Fast lookups using keys (O(1)) vs searching through list (O(n)).\n",
        "\n",
        "- Key–value mapping, not just positional indexes.\n",
        "\n",
        "- Unique keys ensure no duplicates.\n",
        "\n",
        "- More readable when data is identified by names instead of positions.\n",
        "\n",
        "- Flexible values: can store any type against a key."
      ],
      "metadata": {
        "id": "PQS6kN9s3f9b"
      }
    },
    {
      "cell_type": "markdown",
      "source": [
        "#Q12. Scenario where a tuple is preferable over a list:\n",
        "A tuple is preferred when the data is fixed and should not change. For example, storing a student’s date of birth:\n",
        "\n",
        "dob = (2002, 5, 17)  "
      ],
      "metadata": {
        "id": "Q_5BQVxG4G30"
      }
    },
    {
      "cell_type": "markdown",
      "source": [
        "#Q13. How do sets handle duplicate values in Python?\n",
        "- Sets in Python automatically remove duplicate values and only keep unique elements. When you try to insert a duplicate, the set checks internally using hashing and ignores the repeated value instead of storing it again.\n",
        "\n",
        "nums = {1, 2, 2, 3, 3, 3}                   \n",
        "print(nums)\n"
      ],
      "metadata": {
        "id": "jDyqJkkz4NFc"
      }
    },
    {
      "cell_type": "markdown",
      "source": [
        "#Q14. How does the “in” keyword work differently for lists and dictionaries?\n",
        "\n",
        "Answer:\n",
        "\n",
        "- In lists, the in keyword checks whether a value exists in the list.\n",
        "\n",
        "- In dictionaries, the in keyword checks whether a key exists in the dictionary (not the value).\n",
        "\n",
        "Example with list:\n",
        "\n",
        "nums = [10, 20, 30]         \n",
        "print(20 in nums)   \n",
        "print(50 in nums)   \n",
        "\n",
        "Example with dictionary:\n",
        "\n",
        "student = {\"name\": \"Faizan\", \"age\": 21}\n",
        "print(\"name\" in student)   \n",
        "print(\"Faizan\" in student)"
      ],
      "metadata": {
        "id": "n5l7cfmw44kc"
      }
    },
    {
      "cell_type": "markdown",
      "source": [
        "#Q15 Can you modify the elements of a tuple? Explain why or why not?\n",
        "\n",
        "No, you cannot modify the elements of a tuple in Python.\n",
        "\n",
        "- Reason:\n",
        "Tuples are immutable, meaning once they are created, their elements cannot be changed, added, or removed. This immutability ensures data integrity and makes tuples safe for use as dictionary keys or in situations where constant data is required.\n",
        "\n",
        "Example:\n",
        "\n",
        "t = (1, 2, 3)           \n",
        "t[0] = 10  "
      ],
      "metadata": {
        "id": "ySXWWMx45mLy"
      }
    },
    {
      "cell_type": "markdown",
      "source": [
        "#Q16 What is a nested dictionary, and give an example of its use case\n",
        "ChatGPT said:\n",
        "\n",
        "Answer:\n",
        "A nested dictionary is a dictionary that contains another dictionary as its value. It is used to represent hierarchical or structured data.\n",
        "\n",
        "students = {\n",
        "    \"101\": {\"name\": \"Faizan\", \"age\": 21, \"course\": \"CS\"},\n",
        "    \"102\": {\"name\": \"Sahiba\", \"age\": 22, \"course\": \"IT\"}\n",
        "}\n",
        "\n",
        "print(students[\"101\"][\"name\"])  "
      ],
      "metadata": {
        "id": "zOPF29oa6C-u"
      }
    },
    {
      "cell_type": "markdown",
      "source": [
        "#Q17. Describe the time complexity of accessing elements in a dictionary\n",
        "ChatGPT said:\n",
        "\n",
        "Answer:\n",
        "- Accessing elements in a dictionary has an average time complexity of O(1) because dictionaries in Python use a hash table internally. The key is hashed to find the location of the value directly.\n",
        "\n",
        "However, in the worst case (when many keys hash to the same location → hash collisions), the time complexity can degrade to O(n).\n",
        "\n",
        "Average case: O(1)       \n",
        "Worst case: O(n)"
      ],
      "metadata": {
        "id": "l1v3aVjA6e5a"
      }
    },
    {
      "cell_type": "markdown",
      "source": [
        "#Q18 Why are dictionaries considered unordered, and how does that affect data retrieval\n",
        "Answer:\n",
        "\n",
        "- Dictionaries are considered unordered because their elements are stored based on hashing of keys, not by the order in which they are inserted. The storage position of each key–value pair depends on the hash function, so the physical arrangement is unpredictable.\n",
        "\n",
        "Effect on data retrieval:\n",
        "\n",
        "- You cannot rely on the position/index of elements.\n",
        "\n",
        "- Retrieval must be done using the key, not by numeric index like lists.\n",
        "\n",
        "Example:\n",
        "\n",
        "d = {\"a\": 1, \"b\": 2, \"c\": 3}  \n",
        "print(d[\"b\"])  \n",
        "print(d[1])"
      ],
      "metadata": {
        "id": "fs_cVQ986noE"
      }
    },
    {
      "cell_type": "markdown",
      "source": [
        "#Q20 Explain the difference between a list and a dictionary in terms of data retrieval\n",
        "Answer:\n",
        "\n",
        "- List: Data is retrieved using a numeric index (position).\n",
        "\n",
        "- nums = [10, 20, 30]\n",
        "print(nums[1])   # Output: 20 (index-based access)\n",
        "\n",
        "\n",
        "- Dictionary: Data is retrieved using a key (not position).\n",
        "\n",
        "- student = {\"name\": \"Faizan\", \"age\": 21}\n",
        "print(student[\"name\"])"
      ],
      "metadata": {
        "id": "Q96pYWud7K6W"
      }
    }
  ]
}